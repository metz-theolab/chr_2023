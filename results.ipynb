{
 "cells": [
  {
   "cell_type": "markdown",
   "id": "ee945eb0",
   "metadata": {},
   "source": [
    "# Results for CHR2023 paper"
   ]
  },
  {
   "cell_type": "code",
   "execution_count": 12,
   "id": "3ab60571",
   "metadata": {},
   "outputs": [],
   "source": [
    "import itertools\n",
    "import pandas as pd\n",
    "import seaborn as sns\n",
    "from matplotlib import pyplot as plt\n",
    "from matplotlib.cbook import boxplot_stats\n",
    "import numpy as np\n",
    "\n",
    "from sklearn.preprocessing import MinMaxScaler, Normalizer\n",
    "from sklearn.tree import DecisionTreeClassifier\n",
    "from sklearn.ensemble import RandomForestClassifier\n",
    "from sklearn.neighbors import KNeighborsClassifier\n",
    "from sklearn.preprocessing import MinMaxScaler\n",
    "from sklearn.svm import SVC\n",
    "from sklearn.linear_model import LogisticRegression\n",
    "from sklearn.preprocessing import LabelEncoder\n",
    "from sklearn.model_selection import train_test_split\n",
    "from sklearn.metrics import accuracy_score\n",
    "from sklearn.decomposition import PCA\n",
    "\n",
    "from scipy.stats import norm"
   ]
  },
  {
   "cell_type": "code",
   "execution_count": 13,
   "id": "2e3753a1",
   "metadata": {},
   "outputs": [],
   "source": [
    "from scipy.stats import percentileofscore\n",
    "\n",
    "\n",
    "def c2st(X, y, clf=RandomForestClassifier(), loss=accuracy_score, bootstraps=300, alpha_level=0.05):\n",
    "    \"\"\"\n",
    "    Perform Classifier Two Sample Test (C2ST) [1].\n",
    "    \n",
    "    This test estimates if a target is predictable from features by comparing the loss of a classifier learning \n",
    "    the true target with the distribution of losses of classifiers learning a random target with the same average.\n",
    "    \n",
    "    The null hypothesis is that the target is independent of the features - therefore the loss a classifier learning \n",
    "    to predict the target should not be different from the one of a classifier learning independent, random noise.\n",
    "    \n",
    "    Input:\n",
    "        - `X` : (n,m) matrix of features\n",
    "        - `y` : (n,) vector of target - for now only supports binary target\n",
    "        - `clf` : instance of sklearn compatible classifier (default: `LogisticRegression`)\n",
    "        - `loss` : sklearn compatible loss function (default: `hamming_loss`)\n",
    "        - `bootstraps` : number of resamples for generating the loss scores under the null hypothesis\n",
    "        - `alpha_level`: The alpha level to compute the power of the test for.\n",
    "    \n",
    "    Return: (\n",
    "        loss value of classifier predicting `y`, \n",
    "        loss values of bootstraped random targets, \n",
    "        p-value of the test\n",
    "    )\n",
    "    \n",
    "    Usage:\n",
    "    >>> emp_loss, random_losses, pvalue = c2st(X, y)\n",
    "    \n",
    "    Plotting H0 and target loss:\n",
    "    >>>bins, _, __ = plt.hist(random_losses)\n",
    "    >>>med = np.median(random_losses)\n",
    "    >>>plt.plot((med,med),(0, max(bins)), 'b')\n",
    "    >>>plt.plot((emp_loss,emp_loss),(0, max(bins)), 'r--')\n",
    "    \n",
    "    [1] Lopez-Paz, D., & Oquab, M. (2016). Revisiting classifier two-sample tests. arXiv preprint arXiv:1610.06545.\n",
    "    \"\"\"\n",
    "    emp_losses = []\n",
    "    for b in range(bootstraps+1):\n",
    "        X_train, X_test, y_train, y_test = train_test_split(X, y, stratify=y)\n",
    "        y_pred = clf.fit(X_train, y_train).predict(X_test)\n",
    "        emp_losses.append(loss(y_test, y_pred))\n",
    "    # take median loss\n",
    "    emp_loss = np.mean(emp_losses)\n",
    "    bs_losses = []\n",
    "    y_bar = np.mean(y)\n",
    "    for b in range(bootstraps+1):\n",
    "        y_random = np.random.binomial(1, y_bar, size=y.shape[0])\n",
    "        X_train, X_test, y_train, y_test = train_test_split(X, y_random)\n",
    "        y_pred_bs = clf.fit(X_train, y_train).predict(X_test)\n",
    "        bs_losses += [loss(y_test, y_pred_bs)]\n",
    "    pc = percentileofscore(sorted(bs_losses), emp_loss) / 100.\n",
    "    pvalue = pc if pc < y_bar else 1 - pc\n",
    "    \n",
    "    # Compute power\n",
    "    effect = emp_loss - 1/2\n",
    "    nte = len(y_test)\n",
    "    power = norm.cdf((effect * np.sqrt(nte) - norm.ppf(1-alpha_level)/2)/np.sqrt(1/4 - effect**2))\n",
    "    return emp_loss, np.array(bs_losses), pvalue, power"
   ]
  },
  {
   "cell_type": "code",
   "execution_count": 14,
   "id": "9c4765ec-1287-448a-a65d-1b5a7f2c7749",
   "metadata": {},
   "outputs": [],
   "source": [
    "work_df = pd.read_csv(\"dataset.csv\")"
   ]
  },
  {
   "cell_type": "code",
   "execution_count": 15,
   "id": "c104774e",
   "metadata": {},
   "outputs": [],
   "source": [
    "pericope_df = []\n",
    "\n",
    "for pericope in pd.unique(work_df.pericope_name):\n",
    "    sub_df = work_df[(work_df.pericope_name == pericope) & (~work_df.source.isin([\"mark\",\"lucean\", \"matthean\"]))].drop([\"book\", \"pericope_id\", \"pericope_name\", \"ix\", \"source\", \"genre\", \"synoptic\"], axis=1)\n",
    "    for i, j in itertools.combinations(sub_df.index, 2):\n",
    "        diff_vect = np.abs((sub_df.loc[i].values - sub_df.loc[j].values))\n",
    "        if work_df.loc[i]['book'] == \"Mk\":\n",
    "            dist = (sub_df.loc[j].values - sub_df.loc[i].values).tolist()\n",
    "        elif work_df.loc[j]['book'] == \"Mk\":\n",
    "            dist = (sub_df.loc[i].values - sub_df.loc[j].values).tolist()\n",
    "        else:\n",
    "            dist = (sub_df.loc[i].values - sub_df.loc[j].values).tolist()\n",
    "        data = [pericope, f\"{work_df.loc[i]['book']}-{work_df.loc[j]['book']}\"] + dist\n",
    "        pericope_df.append(data)"
   ]
  },
  {
   "cell_type": "code",
   "execution_count": 16,
   "id": "2ce57020",
   "metadata": {},
   "outputs": [],
   "source": [
    "to_drop = [\"pericope_name\",\"source\",\"book\",\"genre\", \"pericope_id\"]\n",
    "\n",
    "distance_vector_pericope = pd.DataFrame(pericope_df)\n",
    "distance_vector_pericope = distance_vector_pericope.rename(columns={0: \"pericope_name\", 1: \"distance\", **{ix + 2: col for ix, col in enumerate(work_df.drop(to_drop + [\"ix\"], axis=1).columns.tolist())}})\n",
    "dist_vector = distance_vector_pericope.merge(work_df[to_drop], left_on=\"pericope_name\", right_on=\"pericope_name\", how=\"left\")\n",
    "\n",
    "dist_vector.drop_duplicates([\"pericope_name\", \"distance\"], inplace=True)\n",
    "null_drop = list(dist_vector.describe().columns[(0 == dist_vector.describe().loc[\"std\"])])\n",
    "dist_vector = dist_vector.drop(null_drop, axis=1)"
   ]
  },
  {
   "cell_type": "markdown",
   "id": "5e3eae2a",
   "metadata": {},
   "source": [
    "### Edit.1: Is there a significant distance between edits of Mark and Luke and Luke and Matthew ?"
   ]
  },
  {
   "cell_type": "code",
   "execution_count": 18,
   "id": "0d5aeb6a-3cac-4b7b-ad2f-7da1f6c5f1af",
   "metadata": {},
   "outputs": [
    {
     "name": "stdout",
     "output_type": "stream",
     "text": [
      "pvalue: 0.019607843137254943\n"
     ]
    },
    {
     "data": {
      "image/png": "[encoded data removed]",
      "text/plain": [
       "<Figure size 640x480 with 1 Axes>"
      ]
     },
     "metadata": {},
     "output_type": "display_data"
    }
   ],
   "source": [
    "lk = dist_vector[(dist_vector.distance.isin([\"Mt-Lk\",\"Mk-Lk\"])) & (dist_vector.source.isin([\"triple\"]))]\n",
    "\n",
    "\n",
    "pca = PCA(n_components=5)\n",
    "le = LabelEncoder()\n",
    "\n",
    "X = lk.drop(to_drop + [\"distance\"], axis=1)\n",
    "X_pca = pca.fit_transform(X)\n",
    "y = le.fit_transform(lk.distance)\n",
    "\n",
    "emp_loss, random_losses, pvalue, power = c2st(X_pca, y, bootstraps=50)\n",
    "bins, _, __ = plt.hist(random_losses)\n",
    "\n",
    "med = np.median(random_losses)\n",
    "plt.plot((med,med),(0, max(bins)), 'b')\n",
    "plt.plot((emp_loss,emp_loss),(0, max(bins)), 'r--')\n",
    "\n",
    "print(f\"pvalue: {pvalue}\")"
   ]
  },
  {
   "cell_type": "markdown",
   "id": "1ca8e1fe",
   "metadata": {},
   "source": [
    "### Edit 2.1: Does Matthew's editing style differ significantly from Luke's ?"
   ]
  },
  {
   "cell_type": "code",
   "execution_count": 112,
   "id": "2d77be50",
   "metadata": {},
   "outputs": [
    {
     "name": "stdout",
     "output_type": "stream",
     "text": [
      "==== Model pvalue: 0.06930693069306926\n",
      "==== Model power: 0.3547965338470123\n"
     ]
    },
    {
     "data": {
      "image/png": "[encoded data removed]",
      "text/plain": [
       "<Figure size 640x480 with 1 Axes>"
      ]
     },
     "metadata": {},
     "output_type": "display_data"
    }
   ],
   "source": [
    "triple = dist_vector[(dist_vector.distance.isin([\"Mt-Mk\",\"Mk-Lk\"])) & (dist_vector.source.isin([\"triple\"]))]\n",
    "\n",
    "rf = DecisionTreeClassifier()\n",
    "le = LabelEncoder()\n",
    "pca = PCA(n_components=3)\n",
    "X = triple.drop(to_drop + [\"distance\"], axis=1)\n",
    "X_pca = pca.fit_transform(X)\n",
    "\n",
    "y = le.fit_transform(triple.distance)\n",
    "\n",
    "emp_loss, random_losses, pvalue, power = c2st(X_pca, y, bootstraps=100)\n",
    "bins, _, __ = plt.hist(random_losses)\n",
    "\n",
    "med = np.median(random_losses)\n",
    "plt.plot((med,med),(0, max(bins)), 'b', label=\"Median acc on random prediction\")\n",
    "plt.plot((emp_loss,emp_loss),(0, max(bins)), 'r--', label=\"Median acc on edition\")\n",
    "plt.legend()\n",
    "\n",
    "\n",
    "plt.savefig(\"test_lk_mt.pdf\")\n",
    "\n",
    "print(f\"==== Model pvalue: {pvalue}\")\n",
    "print(f\"==== Model power: {power}\")"
   ]
  },
  {
   "cell_type": "markdown",
   "id": "4af5c5db",
   "metadata": {},
   "source": [
    "### Edit 2.3: Does Matthew's editing style differ significantly from Luke's (narrative) ?"
   ]
  },
  {
   "cell_type": "code",
   "execution_count": 31,
   "id": "59c9bf68",
   "metadata": {},
   "outputs": [
    {
     "name": "stdout",
     "output_type": "stream",
     "text": [
      "==== Model pvalue: 0.18811881188118817\n"
     ]
    },
    {
     "data": {
      "image/png": "[encoded data removed]",
      "text/plain": [
       "<Figure size 640x480 with 1 Axes>"
      ]
     },
     "metadata": {},
     "output_type": "display_data"
    }
   ],
   "source": [
    "triple = dist_vector[(dist_vector.distance.isin([\"Mt-Mk\",\"Mk-Lk\"])) & (dist_vector.source.isin([\"triple\"])) & (dist_vector.genre.isin([\"narrative\"]))]\n",
    "\n",
    "rf = DecisionTreeClassifier()\n",
    "le = LabelEncoder()\n",
    "pca = PCA(n_components=3)\n",
    "X = triple.drop(to_drop + [\"distance\"], axis=1)\n",
    "X_pca = pca.fit_transform(X)\n",
    "\n",
    "y = le.fit_transform(triple.distance)\n",
    "\n",
    "emp_loss, random_losses, pvalue, power = c2st(X_pca, y, bootstraps=100)\n",
    "bins, _, __ = plt.hist(random_losses)\n",
    "\n",
    "med = np.median(random_losses)\n",
    "plt.plot((med,med),(0, max(bins)), 'b', label=\"Median acc on random prediction\")\n",
    "plt.plot((emp_loss,emp_loss),(0, max(bins)), 'r--', label=\"Median acc on edition\")\n",
    "plt.legend()\n",
    "\n",
    "print(f\"==== Model pvalue: {pvalue}\")\n"
   ]
  },
  {
   "cell_type": "markdown",
   "id": "1b5b434a",
   "metadata": {},
   "source": [
    "### Edit 2.2: Does Matthew's editing style differ significantly from Luke's (sayings) ?"
   ]
  },
  {
   "cell_type": "code",
   "execution_count": 29,
   "id": "d3ef9606",
   "metadata": {},
   "outputs": [
    {
     "name": "stdout",
     "output_type": "stream",
     "text": [
      "==== Model pvalue: 0.44554455445544555\n"
     ]
    },
    {
     "data": {
      "image/png": "[encoded data removed]",
      "text/plain": [
       "<Figure size 640x480 with 1 Axes>"
      ]
     },
     "metadata": {},
     "output_type": "display_data"
    }
   ],
   "source": [
    "triple = dist_vector[(dist_vector.distance.isin([\"Mt-Mk\",\"Mk-Lk\"])) & (dist_vector.source.isin([\"triple\"])) & (dist_vector.genre.isin([\"sayings\"]))]\n",
    "\n",
    "rf = DecisionTreeClassifier()\n",
    "le = LabelEncoder()\n",
    "pca = PCA(n_components=3)\n",
    "X = triple.drop(to_drop + [\"distance\"], axis=1)\n",
    "X_pca = pca.fit_transform(X)\n",
    "\n",
    "y = le.fit_transform(triple.distance)\n",
    "\n",
    "emp_loss, random_losses, pvalue, power = c2st(X_pca, y, bootstraps=100)\n",
    "bins, _, __ = plt.hist(random_losses)\n",
    "\n",
    "med = np.median(random_losses)\n",
    "plt.plot((med,med),(0, max(bins)), 'b', label=\"Median acc on random prediction\")\n",
    "plt.plot((emp_loss,emp_loss),(0, max(bins)), 'r--', label=\"Median acc on edition\")\n",
    "plt.legend()\n",
    "\n",
    "\n",
    "print(f\"==== Model pvalue: {pvalue}\")"
   ]
  },
  {
   "cell_type": "markdown",
   "id": "3bdb56d7",
   "metadata": {},
   "source": [
    "## Stylometric source detection in Luke"
   ]
  },
  {
   "cell_type": "markdown",
   "id": "d9410f82",
   "metadata": {},
   "source": [
    "### Stylo.0: Stylometric difference between genre"
   ]
  },
  {
   "cell_type": "code",
   "execution_count": 25,
   "id": "f1492852",
   "metadata": {
    "scrolled": true
   },
   "outputs": [
    {
     "name": "stdout",
     "output_type": "stream",
     "text": [
      "pvalue: 0.0\n"
     ]
    },
    {
     "data": {
      "image/png": "[encoded data removed]",
      "text/plain": [
       "<Figure size 640x480 with 1 Axes>"
      ]
     },
     "metadata": {},
     "output_type": "display_data"
    }
   ],
   "source": [
    "lk = work_df[(work_df.book == \"Lk\") & (work_df.genre.isin([\"narrative\", \"sayings\"]))].set_index(\"pericope_name\")\n",
    "\n",
    "rf = DecisionTreeClassifier()\n",
    "pca = PCA(n_components=20)\n",
    "le = LabelEncoder()\n",
    "scaler = MinMaxScaler()\n",
    "\n",
    "X = lk.drop(list(set(to_drop) - set([\"pericope_name\"])) + [\"ix\"], axis=1)\n",
    "X_scaled = scaler.fit_transform(X)\n",
    "X_pca = pca.fit_transform(X_scaled)\n",
    "y = le.fit_transform(lk.genre)\n",
    "\n",
    "emp_loss, random_losses, pvalue, power = c2st(X_pca, y, bootstraps=100)\n",
    "bins, _, __ = plt.hist(random_losses)\n",
    "\n",
    "med = np.median(random_losses)\n",
    "plt.plot((med,med),(0, max(bins)), 'b')\n",
    "plt.plot((emp_loss,emp_loss),(0, max(bins)), 'r--')\n",
    "\n",
    "print(f\"pvalue: {pvalue}\")\n"
   ]
  },
  {
   "cell_type": "markdown",
   "id": "84987440",
   "metadata": {},
   "source": [
    "### Stylo.1: Stylometric difference between double and triple tradition"
   ]
  },
  {
   "cell_type": "code",
   "execution_count": 58,
   "id": "0f9cc2e4",
   "metadata": {},
   "outputs": [
    {
     "name": "stdout",
     "output_type": "stream",
     "text": [
      "pvalue: 0.02970297029702973\n",
      "==== Model power: 0.9976723085490286\n"
     ]
    },
    {
     "data": {
      "image/png": "[encoded data removed]",
      "text/plain": [
       "<Figure size 640x480 with 1 Axes>"
      ]
     },
     "metadata": {},
     "output_type": "display_data"
    }
   ],
   "source": [
    "lk = work_df[(work_df.book == \"Lk\") & (work_df.source.isin([\"q\", \"triple\"]))]\n",
    "\n",
    "rf = DecisionTreeClassifier()\n",
    "pca = PCA(n_components=20)\n",
    "le = LabelEncoder()\n",
    "scaler = MinMaxScaler()\n",
    "\n",
    "X = lk.drop(list(set(to_drop) - set([\"pericope_name\"])) + [\"ix\"], axis=1).set_index(\"pericope_name\")\n",
    "X_scaled = scaler.fit_transform(X)\n",
    "X_pca = pca.fit_transform(X_scaled)\n",
    "y = le.fit_transform(lk.source)\n",
    "\n",
    "emp_loss, random_losses, pvalue, power = c2st(X_pca, y, bootstraps=100)\n",
    "bins, _, __ = plt.hist(random_losses)\n",
    "\n",
    "med = np.median(random_losses)\n",
    "plt.plot((med,med),(0, max(bins)), 'b')\n",
    "plt.plot((emp_loss,emp_loss),(0, max(bins)), 'r--')\n",
    "\n",
    "print(f\"pvalue: {pvalue}\")\n",
    "print(f\"==== Model power: {power}\")"
   ]
  },
  {
   "cell_type": "markdown",
   "id": "5b6956ce",
   "metadata": {},
   "source": [
    "### Stylo.2: Stylometric difference between double - triple tradition on sayings"
   ]
  },
  {
   "cell_type": "code",
   "execution_count": 8,
   "id": "75ba5804",
   "metadata": {},
   "outputs": [
    {
     "name": "stdout",
     "output_type": "stream",
     "text": [
      "pvalue: 0.04950495049504955\n",
      "==== Model power: 0.6534171188658817\n"
     ]
    },
    {
     "data": {
      "image/png": "[encoded data removed]",
      "text/plain": [
       "<Figure size 640x480 with 1 Axes>"
      ]
     },
     "metadata": {},
     "output_type": "display_data"
    }
   ],
   "source": [
    "lk = work_df[(work_df.book == \"Lk\") & (work_df.source.isin([\"q\", \"triple\"])) & work_df.genre.isin([\"sayings\"])]\n",
    "\n",
    "rf = DecisionTreeClassifier()\n",
    "pca = PCA(n_components=20)\n",
    "le = LabelEncoder()\n",
    "scaler = MinMaxScaler()\n",
    "\n",
    "X = lk.drop(list(set(to_drop) - set([\"pericope_name\"])) + [\"ix\"], axis=1).set_index(\"pericope_name\")\n",
    "X_scaled = scaler.fit_transform(X)\n",
    "X_pca = pca.fit_transform(X_scaled)\n",
    "y = le.fit_transform(lk.source)\n",
    "\n",
    "emp_loss, random_losses, pvalue, power = c2st(X_pca, y, bootstraps=100)\n",
    "bins, _, __ = plt.hist(random_losses)\n",
    "\n",
    "med = np.median(random_losses)\n",
    "plt.plot((med,med),(0, max(bins)), 'b')\n",
    "plt.plot((emp_loss,emp_loss),(0, max(bins)), 'r--')\n",
    "\n",
    "print(f\"pvalue: {pvalue}\")\n",
    "print(f\"==== Model power: {power}\")"
   ]
  },
  {
   "cell_type": "code",
   "execution_count": 197,
   "id": "060dbd35",
   "metadata": {},
   "outputs": [
    {
     "name": "stdout",
     "output_type": "stream",
     "text": [
      "0.68\n",
      "\\begin{tabular}{lr}\n",
      "\\toprule\n",
      " & 0 \\\\ \\hline\n",
      "\\midrule\n",
      "tense-I & 0.065946 \\\\ \\hline\n",
      "capitalized-words & 0.041571 \\\\ \\hline\n",
      "count-αὐτός & 0.039025 \\\\ \\hline\n",
      "avg-word-length & 0.034037 \\\\ \\hline\n",
      "avg-len-comma & 0.027597 \\\\ \\hline\n",
      "\\bottomrule\n",
      "\\end{tabular}\n",
      "\n"
     ]
    }
   ],
   "source": [
    "rf = RandomForestClassifier()\n",
    "\n",
    "X_train, X_test, y_train, y_test = train_test_split(X, y)\n",
    "\n",
    "rf.fit(X_train, y_train)\n",
    "\n",
    "print(accuracy_score(rf.predict(X_test), y_test))\n",
    "\n",
    "forest_importances = pd.Series(rf.feature_importances_, index=X.columns)\n",
    "\n",
    "print(forest_importances.sort_values(ascending=False).head(5).to_latex().replace(\"\\\\\\n\", \"\\\\ \\hline\\n\").replace(\"_\", \"-\"))"
   ]
  },
  {
   "cell_type": "code",
   "execution_count": 167,
   "id": "4ef8f358",
   "metadata": {},
   "outputs": [
    {
     "name": "stdout",
     "output_type": "stream",
     "text": [
      "pvalue: 0.2524752475247525\n"
     ]
    },
    {
     "data": {
      "image/png": "[encoded data removed]",
      "text/plain": [
       "<Figure size 640x480 with 1 Axes>"
      ]
     },
     "metadata": {},
     "output_type": "display_data"
    }
   ],
   "source": [
    "lk = work_df[(work_df.book == \"Lk\") & (work_df.source.isin([\"triple\", \"lucean\"]))]\n",
    "\n",
    "\n",
    "rf = DecisionTreeClassifier()\n",
    "pca = PCA(n_components=20)\n",
    "le = LabelEncoder()\n",
    "scaler = MinMaxScaler()\n",
    "\n",
    "X = lk.drop(to_drop + [\"ix\"], axis=1)\n",
    "X_scaled = scaler.fit_transform(X)\n",
    "X_pca = pca.fit_transform(X_scaled)\n",
    "y = le.fit_transform(lk.source)\n",
    "\n",
    "emp_loss, random_losses, pvalue, power = c2st(X_pca, y, bootstraps=100)\n",
    "bins, _, __ = plt.hist(random_losses)\n",
    "\n",
    "med = np.median(random_losses)\n",
    "plt.plot((med,med),(0, max(bins)), 'b')\n",
    "plt.plot((emp_loss,emp_loss),(0, max(bins)), 'r--')\n",
    "\n",
    "print(f\"pvalue: {pvalue}\")\n",
    "print(f\"==== Model power: {power}\")"
   ]
  },
  {
   "cell_type": "code",
   "execution_count": 216,
   "id": "b6c7a391",
   "metadata": {},
   "outputs": [
    {
     "name": "stdout",
     "output_type": "stream",
     "text": [
      "\\begin{tabular}{lrrr}\n",
      "\\toprule\n",
      "book & nbr-words & capitalized-words & count-καί \\\\ \\hline\n",
      "\\midrule\n",
      "Mt & 33 & 2 & 6 \\\\ \\hline\n",
      "Mk & 48 & 5 & 7 \\\\ \\hline\n",
      "Lk & 41 & 2 & 3 \\\\ \\hline\n",
      "\\bottomrule\n",
      "\\end{tabular}\n",
      "\n"
     ]
    }
   ],
   "source": [
    "pericope = \"The Healing of Peter's Mother-in-law\"\n",
    "\n",
    "print(work_df[work_df.pericope_name == pericope][[\"book\", \"nbr_words\", \"capitalized_words\", \"count_καί\"]].to_latex(float_format=\"%.0f\", index=False).replace(\"\\\\\\n\", \"\\\\ \\hline\\n\").replace(\"_\", \"-\"))"
   ]
  },
  {
   "cell_type": "code",
   "execution_count": 236,
   "id": "42f4388b",
   "metadata": {},
   "outputs": [
    {
     "data": {
      "text/html": [
       "<div>\n",
       "<style scoped>\n",
       "    .dataframe tbody tr th:only-of-type {\n",
       "        vertical-align: middle;\n",
       "    }\n",
       "\n",
       "    .dataframe tbody tr th {\n",
       "        vertical-align: top;\n",
       "    }\n",
       "\n",
       "    .dataframe thead th {\n",
       "        text-align: right;\n",
       "    }\n",
       "</style>\n",
       "<table border=\"1\" class=\"dataframe\">\n",
       "  <thead>\n",
       "    <tr style=\"text-align: right;\">\n",
       "      <th></th>\n",
       "      <th>book</th>\n",
       "      <th>pericope_id</th>\n",
       "      <th>pericope_name</th>\n",
       "      <th>ix</th>\n",
       "      <th>pos_N</th>\n",
       "      <th>number_S</th>\n",
       "      <th>case_N</th>\n",
       "      <th>case_G</th>\n",
       "      <th>gender_M</th>\n",
       "      <th>gender_F</th>\n",
       "      <th>...</th>\n",
       "      <th>pos_RI</th>\n",
       "      <th>pos_X</th>\n",
       "      <th>tense_F</th>\n",
       "      <th>mode_D</th>\n",
       "      <th>mode_O</th>\n",
       "      <th>tense_Y</th>\n",
       "      <th>pos_I</th>\n",
       "      <th>source</th>\n",
       "      <th>genre</th>\n",
       "      <th>synoptic</th>\n",
       "    </tr>\n",
       "  </thead>\n",
       "  <tbody>\n",
       "    <tr>\n",
       "      <th>70</th>\n",
       "      <td>Mt</td>\n",
       "      <td>37</td>\n",
       "      <td>The Healing of Peter's Mother-in-law</td>\n",
       "      <td>37|The Healing of Peter's Mother-in-law|Mt</td>\n",
       "      <td>6.0</td>\n",
       "      <td>23.0</td>\n",
       "      <td>5.0</td>\n",
       "      <td>5.0</td>\n",
       "      <td>8.0</td>\n",
       "      <td>10.0</td>\n",
       "      <td>...</td>\n",
       "      <td>0.0</td>\n",
       "      <td>0.0</td>\n",
       "      <td>0.0</td>\n",
       "      <td>0.0</td>\n",
       "      <td>0.0</td>\n",
       "      <td>0.0</td>\n",
       "      <td>0.0</td>\n",
       "      <td>triple</td>\n",
       "      <td>narrative</td>\n",
       "      <td>True</td>\n",
       "    </tr>\n",
       "    <tr>\n",
       "      <th>71</th>\n",
       "      <td>Mk</td>\n",
       "      <td>37</td>\n",
       "      <td>The Healing of Peter's Mother-in-law</td>\n",
       "      <td>37|The Healing of Peter's Mother-in-law|Mk</td>\n",
       "      <td>10.0</td>\n",
       "      <td>28.0</td>\n",
       "      <td>10.0</td>\n",
       "      <td>10.0</td>\n",
       "      <td>14.0</td>\n",
       "      <td>12.0</td>\n",
       "      <td>...</td>\n",
       "      <td>0.0</td>\n",
       "      <td>0.0</td>\n",
       "      <td>0.0</td>\n",
       "      <td>0.0</td>\n",
       "      <td>0.0</td>\n",
       "      <td>0.0</td>\n",
       "      <td>0.0</td>\n",
       "      <td>triple</td>\n",
       "      <td>narrative</td>\n",
       "      <td>True</td>\n",
       "    </tr>\n",
       "    <tr>\n",
       "      <th>72</th>\n",
       "      <td>Lk</td>\n",
       "      <td>37</td>\n",
       "      <td>The Healing of Peter's Mother-in-law</td>\n",
       "      <td>37|The Healing of Peter's Mother-in-law|Lk</td>\n",
       "      <td>7.0</td>\n",
       "      <td>25.0</td>\n",
       "      <td>5.0</td>\n",
       "      <td>7.0</td>\n",
       "      <td>11.0</td>\n",
       "      <td>10.0</td>\n",
       "      <td>...</td>\n",
       "      <td>0.0</td>\n",
       "      <td>0.0</td>\n",
       "      <td>0.0</td>\n",
       "      <td>0.0</td>\n",
       "      <td>0.0</td>\n",
       "      <td>0.0</td>\n",
       "      <td>0.0</td>\n",
       "      <td>triple</td>\n",
       "      <td>narrative</td>\n",
       "      <td>True</td>\n",
       "    </tr>\n",
       "  </tbody>\n",
       "</table>\n",
       "<p>3 rows × 118 columns</p>\n",
       "</div>"
      ],
      "text/plain": [
       "   book pericope_id                         pericope_name  \\\n",
       "70   Mt          37  The Healing of Peter's Mother-in-law   \n",
       "71   Mk          37  The Healing of Peter's Mother-in-law   \n",
       "72   Lk          37  The Healing of Peter's Mother-in-law   \n",
       "\n",
       "                                            ix  pos_N  number_S  case_N  \\\n",
       "70  37|The Healing of Peter's Mother-in-law|Mt    6.0      23.0     5.0   \n",
       "71  37|The Healing of Peter's Mother-in-law|Mk   10.0      28.0    10.0   \n",
       "72  37|The Healing of Peter's Mother-in-law|Lk    7.0      25.0     5.0   \n",
       "\n",
       "    case_G  gender_M  gender_F  ...  pos_RI  pos_X  tense_F  mode_D  mode_O  \\\n",
       "70     5.0       8.0      10.0  ...     0.0    0.0      0.0     0.0     0.0   \n",
       "71    10.0      14.0      12.0  ...     0.0    0.0      0.0     0.0     0.0   \n",
       "72     7.0      11.0      10.0  ...     0.0    0.0      0.0     0.0     0.0   \n",
       "\n",
       "    tense_Y  pos_I  source      genre  synoptic  \n",
       "70      0.0    0.0  triple  narrative      True  \n",
       "71      0.0    0.0  triple  narrative      True  \n",
       "72      0.0    0.0  triple  narrative      True  \n",
       "\n",
       "[3 rows x 118 columns]"
      ]
     },
     "execution_count": 236,
     "metadata": {},
     "output_type": "execute_result"
    }
   ],
   "source": [
    "work_df[work_df.pericope_name == pericope]"
   ]
  },
  {
   "cell_type": "code",
   "execution_count": 217,
   "id": "72d909e5",
   "metadata": {},
   "outputs": [
    {
     "name": "stdout",
     "output_type": "stream",
     "text": [
      "\\begin{tabular}{lrrr}\n",
      "\\toprule\n",
      "distance & nbr-words & capitalized-words & count-καί \\\\ \\hline\n",
      "\\midrule\n",
      "Mt-Mk & -15.00 & -3.00 & -1.00 \\\\ \\hline\n",
      "Mt-Lk & -8.00 & 0.00 & 3.00 \\\\ \\hline\n",
      "Mk-Lk & -7.00 & -3.00 & -4.00 \\\\ \\hline\n",
      "\\bottomrule\n",
      "\\end{tabular}\n",
      "\n"
     ]
    }
   ],
   "source": [
    "print(dist_vector[dist_vector.pericope_name == pericope][[\"distance\", \"nbr_words\", \"capitalized_words\", \"count_καί\"]].to_latex(float_format=\"%.2f\", index=False).replace(\"\\\\\\n\", \"\\\\ \\hline\\n\").replace(\"_\", \"-\"))"
   ]
  },
  {
   "cell_type": "code",
   "execution_count": 237,
   "id": "c0428704",
   "metadata": {},
   "outputs": [
    {
     "name": "stdout",
     "output_type": "stream",
     "text": [
      "\\begin{tabular}{lrrr}\n",
      "\\toprule\n",
      "book & nbr-words & case-N & gender-F \\\\ \\hline\n",
      "\\midrule\n",
      "Mt & 118 & 41 & 11 \\\\ \\hline\n",
      "Lk & 89 & 22 & 6 \\\\ \\hline\n",
      "\\bottomrule\n",
      "\\end{tabular}\n",
      "\n"
     ]
    }
   ],
   "source": [
    "pericope = \"The Beatitudes\"\n",
    "print(work_df[work_df.pericope_name == pericope][[\"book\", \"nbr_words\", \"case_N\", \"gender_F\"]].to_latex(float_format=\"%.0f\", index=False).replace(\"\\\\\\n\", \"\\\\ \\hline\\n\").replace(\"_\", \"-\"))"
   ]
  },
  {
   "cell_type": "code",
   "execution_count": 239,
   "id": "5971d58f",
   "metadata": {},
   "outputs": [
    {
     "data": {
      "text/plain": [
       "110    51\n",
       "111    51\n",
       "Name: pericope_id, dtype: object"
      ]
     },
     "execution_count": 239,
     "metadata": {},
     "output_type": "execute_result"
    }
   ],
   "source": [
    "work_df[work_df.pericope_name == pericope].pericope_id"
   ]
  },
  {
   "cell_type": "code",
   "execution_count": 215,
   "id": "cadf5aae",
   "metadata": {},
   "outputs": [
    {
     "name": "stdout",
     "output_type": "stream",
     "text": [
      "\\begin{tabular}{lrrr}\n",
      "\\toprule\n",
      "distance & nbr-words & case-N & gender-F \\\\ \\hline\n",
      "\\midrule\n",
      "Mt-Lk & 29.00 & 19.00 & 5.00 \\\\ \\hline\n",
      "\\bottomrule\n",
      "\\end{tabular}\n",
      "\n"
     ]
    }
   ],
   "source": [
    "print(dist_vector[dist_vector.pericope_name == pericope][[\"distance\", \"nbr_words\", \"case_N\", \"gender_F\"]].to_latex(float_format=\"%.2f\", index=False).replace(\"\\\\\\n\", \"\\\\ \\hline\\n\").replace(\"_\", \"-\"))"
   ]
  }
 ],
 "metadata": {
  "kernelspec": {
   "display_name": "Python 3 (ipykernel)",
   "language": "python",
   "name": "python3"
  },
  "language_info": {
   "codemirror_mode": {
    "name": "ipython",
    "version": 3
   },
   "file_extension": ".py",
   "mimetype": "text/x-python",
   "name": "python",
   "nbconvert_exporter": "python",
   "pygments_lexer": "ipython3",
   "version": "3.11.4"
  }
 },
 "nbformat": 4,
 "nbformat_minor": 5
}
